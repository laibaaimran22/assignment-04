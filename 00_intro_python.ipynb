{
  "nbformat": 4,
  "nbformat_minor": 0,
  "metadata": {
    "colab": {
      "provenance": [],
      "authorship_tag": "ABX9TyODOgXmevgZoGh9UIuzNJe0",
      "include_colab_link": true
    },
    "kernelspec": {
      "name": "python3",
      "display_name": "Python 3"
    },
    "language_info": {
      "name": "python"
    }
  },
  "cells": [
    {
      "cell_type": "markdown",
      "metadata": {
        "id": "view-in-github",
        "colab_type": "text"
      },
      "source": [
        "<a href=\"https://colab.research.google.com/github/laibaaimran22/assignment-04/blob/main/00_intro_python.ipynb\" target=\"_parent\"><img src=\"https://colab.research.google.com/assets/colab-badge.svg\" alt=\"Open In Colab\"/></a>"
      ]
    },
    {
      "cell_type": "code",
      "execution_count": null,
      "metadata": {
        "colab": {
          "base_uri": "https://localhost:8080/"
        },
        "id": "h3HLSVCcxd00",
        "outputId": "6336cd37-2e87-44ef-82f8-fe4171f4ef6b"
      },
      "outputs": [
        {
          "output_type": "stream",
          "name": "stdout",
          "text": [
            "01_add_two_numbers\n",
            "This application is for adding two numbers\n",
            "Enter your first number4\n",
            "Enter your second number5\n",
            "The total sum of 4 and 5 is 9\n"
          ]
        }
      ],
      "source": [
        "print(\"01_add_two_numbers\")\n",
        "\n",
        "def add():\n",
        "  print(\"This application is for adding two numbers\")\n",
        "  first_number = int(input(\"Enter your first number\"))\n",
        "  second_number = int(input(\"Enter your second number\"))\n",
        "  total = int(first_number + second_number)\n",
        "  print(f'The total sum of {first_number} and {second_number} is {total}')\n",
        "\n",
        "if __name__ == \"__main__\":\n",
        "    add()"
      ]
    },
    {
      "cell_type": "code",
      "source": [
        "print(\"02_agreement_bot\")\n",
        "def bot():\n",
        "  animal = str(input(\"What is their favourite animal?\"))\n",
        "  print(f'My favourite animal is also {animal}!')\n",
        "\n",
        "if __name__ == \"__main__\":\n",
        "    bot()\n"
      ],
      "metadata": {
        "colab": {
          "base_uri": "https://localhost:8080/"
        },
        "id": "G05d4Gv81a9M",
        "outputId": "079e8c86-3ee5-4bbe-ec97-4fa96dd0b57a"
      },
      "execution_count": null,
      "outputs": [
        {
          "output_type": "stream",
          "name": "stdout",
          "text": [
            "02_agreement_bot\n",
            "What is their favourite animal?cat\n",
            "My favourite animal is also cat!\n"
          ]
        }
      ]
    },
    {
      "cell_type": "code",
      "source": [
        "print(\"03_fahrenheit_to_celsius\")\n",
        "def temp():\n",
        "  print(\"This is the code for converting fahrenheit to celsius\")\n",
        "  fahrenheit_degree = float(input(\"Enter your fahrenheit degree\"))\n",
        "  celsius_degree = (fahrenheit_degree - 32) * 5.0/9.0\n",
        "  print(f'Temperature {fahrenheit_degree} = {celsius_degree}')\n",
        "\n",
        "if __name__ == \"__main__\":\n",
        "    temp()"
      ],
      "metadata": {
        "colab": {
          "base_uri": "https://localhost:8080/"
        },
        "id": "6WQ1BEt9_jlN",
        "outputId": "a184efcd-1623-4784-c87c-dbd8e72f2960"
      },
      "execution_count": null,
      "outputs": [
        {
          "output_type": "stream",
          "name": "stdout",
          "text": [
            "03_fahrenheit_to_celsius\n",
            "This is the code for converting fahrenheit to celsius\n",
            "Enter your fahrenheit degree78\n",
            "Temperature 78.0 = 25.555555555555557\n"
          ]
        }
      ]
    },
    {
      "cell_type": "code",
      "source": [
        "\n",
        "print(\"04_how_old_are_they\")\n",
        "\n",
        "def add_ages():\n",
        "  Anton:int = 21\n",
        "  Beth:int = Anton + 6\n",
        "  Chen:int = Beth + 20\n",
        "  Drew:int = Anton + Chen\n",
        "  Ethan:int = Chen\n",
        "\n",
        "  print(\"Anton is \" + str(Anton))\n",
        "  print(\"Beth is \" + str(Beth))\n",
        "  print(\"Chen is \" + str(Chen))\n",
        "  print(\"Drew is \" + str(Drew))\n",
        "  print(\"Ethan is \" + str(Ethan))\n",
        "\n",
        "\n",
        "if __name__ == \"__main__\":\n",
        "    add_ages()\n"
      ],
      "metadata": {
        "colab": {
          "base_uri": "https://localhost:8080/"
        },
        "id": "rRdsKGnGBqms",
        "outputId": "9e64e6e8-cfec-44ee-a5c1-c1587853ffa8"
      },
      "execution_count": null,
      "outputs": [
        {
          "output_type": "stream",
          "name": "stdout",
          "text": [
            "04_how_old_are_they\n",
            "Anton is 21\n",
            "Beth is 27\n",
            "Chen is 47\n",
            "Drew is 68\n",
            "Ethan is 47\n"
          ]
        }
      ]
    },
    {
      "cell_type": "code",
      "source": [
        "print(\"05_triangle_perimeter\")\n",
        "def triangle():\n",
        "    print(\"This code is about triangle perimeter\")\n",
        "    side1: float = float(input(\"Enter first side no of triangle \"))\n",
        "    side2: float = float(input(\"Enter second side no of triangle \"))\n",
        "    side3: float = float(input(\"Enter third side no of triangle \"))\n",
        "    total: float = float(side1 + side2 + side3)\n",
        "    print (f'The perimeter of the triangle is {total}')\n",
        "\n",
        "if __name__ == '__main__':\n",
        "    triangle()"
      ],
      "metadata": {
        "colab": {
          "base_uri": "https://localhost:8080/"
        },
        "id": "hOSYcKfzD4Ie",
        "outputId": "9a5a925a-54ab-4000-b6fe-39d6fadd5331"
      },
      "execution_count": null,
      "outputs": [
        {
          "output_type": "stream",
          "name": "stdout",
          "text": [
            "05_triangle_perimeter\n",
            "This code is about triangle perimeter\n",
            "Enter first side no of triangle 3\n",
            "Enter second side no of triangle 4\n",
            "Enter third side no of triangle 4\n",
            "The perimeter of the triangle is 11.0\n"
          ]
        }
      ]
    },
    {
      "cell_type": "code",
      "source": [
        "print(\"06_square_number\")\n",
        "\n",
        "def square():\n",
        "    print(\"This code is about square number\")\n",
        "    num1:int = int(input(\"Enter a number and i will give you a square value. \"))\n",
        "    print (f'The square of {num1} is {num1 ** 2}')\n",
        "\n",
        "if __name__ == '__main__':\n",
        "    square()\n"
      ],
      "metadata": {
        "colab": {
          "base_uri": "https://localhost:8080/"
        },
        "id": "ucfohFYcGERY",
        "outputId": "e3cb45a4-f68c-4567-fc02-ed9d4c9a39a7"
      },
      "execution_count": null,
      "outputs": [
        {
          "output_type": "stream",
          "name": "stdout",
          "text": [
            "06_square_number\n",
            "This code is about square number\n",
            "Enter a number and i will give you a square value. 6\n",
            "The square of 6 is 36\n"
          ]
        }
      ]
    }
  ]
}