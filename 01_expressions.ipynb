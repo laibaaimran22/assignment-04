{
  "nbformat": 4,
  "nbformat_minor": 0,
  "metadata": {
    "colab": {
      "provenance": [],
      "authorship_tag": "ABX9TyOWF8VIweW2mI0nIVKAADN+",
      "include_colab_link": true
    },
    "kernelspec": {
      "name": "python3",
      "display_name": "Python 3"
    },
    "language_info": {
      "name": "python"
    }
  },
  "cells": [
    {
      "cell_type": "markdown",
      "metadata": {
        "id": "view-in-github",
        "colab_type": "text"
      },
      "source": [
        "<a href=\"https://colab.research.google.com/github/laibaaimran22/assignment-04/blob/main/01_expressions.ipynb\" target=\"_parent\"><img src=\"https://colab.research.google.com/assets/colab-badge.svg\" alt=\"Open In Colab\"/></a>"
      ]
    },
    {
      "cell_type": "code",
      "execution_count": 6,
      "metadata": {
        "colab": {
          "base_uri": "https://localhost:8080/"
        },
        "id": "QunPLK61n2FU",
        "outputId": "6f7b5f8e-9d02-4b85-ccca-633e4fa2bdfd"
      },
      "outputs": [
        {
          "output_type": "stream",
          "name": "stdout",
          "text": [
            "01_dicesimulator\n",
            "die1 in main() starts as: 10\n",
            "Total of two dice: 9\n",
            "Total of two dice: 5\n",
            "Total of two dice: 10\n",
            "die1 in main() is: 10\n"
          ]
        }
      ],
      "source": [
        "import random\n",
        "\n",
        "print(\"01_dicesimulator\")\n",
        "\n",
        "def roll_dice():\n",
        "    die1: int = random.randint(1, 6)\n",
        "    die2: int = random.randint(1, 6)\n",
        "    total: int = die1 + die2\n",
        "    print(\"Total of two dice:\", total)\n",
        "\n",
        "def main():\n",
        "    die1: int = 10\n",
        "    print(\"die1 in main() starts as: \" + str(die1))\n",
        "    roll_dice()\n",
        "    roll_dice()\n",
        "    roll_dice()\n",
        "    print(\"die1 in main() is: \" + str(die1))\n",
        "\n",
        "if __name__ == '__main__':\n",
        "    main()\n"
      ]
    },
    {
      "cell_type": "code",
      "source": [
        "print (\"02_e=mc2\")\n",
        "def energy():\n",
        "  c: float = 299792458\n",
        "  m: float = float(input(\"Enter kilos of mass: \"))\n",
        "  print(\"e = m * C^2\")\n",
        "  print(\"Mass = \" + str(m) + \" kg\")\n",
        "  print(\"C = \" + str(c) + \" m/s\")\n",
        "  print(\"e = \" + str(m * c ** 2) + \" joules\")\n",
        "\n",
        "\n",
        "if __name__ == '__main__':\n",
        "    energy()"
      ],
      "metadata": {
        "colab": {
          "base_uri": "https://localhost:8080/"
        },
        "id": "s4diRXp0qAhh",
        "outputId": "f66a9aad-d9e1-4e8a-8d6a-e2c589b88a49"
      },
      "execution_count": 9,
      "outputs": [
        {
          "output_type": "stream",
          "name": "stdout",
          "text": [
            "02_e=mc2\n",
            "Enter kilos of mass: 44\n",
            "e = m * C^2\n",
            "Mass = 44.0 kg\n",
            "C = 299792458 m/s\n",
            "e = 3.9545227864419973e+18 joules\n"
          ]
        }
      ]
    },
    {
      "cell_type": "code",
      "source": [
        "print(\"03_feet_to_inches\")\n",
        "inch: int = 12\n",
        "\n",
        "def foot():\n",
        "    feet: int = int(input(\"Enter number of feet and i will convert it into inches. \"))\n",
        "    print(f'There are {inch * feet} inches in {feet} feet!')\n",
        "\n",
        "if __name__ == '__main__':\n",
        "    foot()"
      ],
      "metadata": {
        "colab": {
          "base_uri": "https://localhost:8080/"
        },
        "id": "o3gUgtx2sYsd",
        "outputId": "7c49a622-7fe8-4f53-e651-bceb470f189b"
      },
      "execution_count": 10,
      "outputs": [
        {
          "output_type": "stream",
          "name": "stdout",
          "text": [
            "03_feet_to_inches\n",
            "Enter number of feet and i will convert it into inches. 44\n",
            "There are 528 inches in 44 feet!\n"
          ]
        }
      ]
    },
    {
      "cell_type": "code",
      "source": [
        "import math\n",
        "print(\"04_pythagorean_theorem\")\n",
        "def triangle():\n",
        "    ab: float = float(input(\"Enter the length of AB: \"))\n",
        "    ac: float = float(input(\"Enter the length of AC: \"))\n",
        "    bc: float = math.sqrt(ab**2 + ac**2)\n",
        "    print(f'The length of BC (the hypotenuse is : {bc})')\n",
        "if __name__ == '__main__':\n",
        "    triangle()\n"
      ],
      "metadata": {
        "colab": {
          "base_uri": "https://localhost:8080/"
        },
        "id": "SN7EKMSztfOM",
        "outputId": "9eba9b04-1d4d-48be-aeb0-e2543f7ed038"
      },
      "execution_count": 17,
      "outputs": [
        {
          "output_type": "stream",
          "name": "stdout",
          "text": [
            "04_pythagorean_theorem\n",
            "Enter the length of AB: 3\n",
            "Enter the length of AC: 4\n",
            "The length of BC (the hypotenuse is : 5.0)\n"
          ]
        }
      ]
    },
    {
      "cell_type": "code",
      "source": [
        "print(\"05_remainder_division\")\n",
        "def remainder():\n",
        "    num1: int = int(input(\"Please enter an integer to be divided: \"))\n",
        "    num2: int = int(input(\"Please enter an integer to divide by: \"))\n",
        "    quotient: int = num1 // num2\n",
        "    remainder: int = num1 % num2\n",
        "    print(f'The result of this division is {quotient} with a remainder of {remainder}')\n",
        "if __name__ == '__main__':\n",
        "    remainder()\n"
      ],
      "metadata": {
        "colab": {
          "base_uri": "https://localhost:8080/"
        },
        "id": "5oKV7Kf3u1qs",
        "outputId": "d9042f5f-6a6f-4666-daa9-4bbf0360d552"
      },
      "execution_count": 19,
      "outputs": [
        {
          "output_type": "stream",
          "name": "stdout",
          "text": [
            "05_remainder_division\n",
            "Please enter an integer to be divided: 4\n",
            "Please enter an integer to divide by: 3\n",
            "The result of this division is 1 with a remainder of 1\n"
          ]
        }
      ]
    },
    {
      "cell_type": "code",
      "source": [
        "import random\n",
        "print(\"06_rolldice\")\n",
        "def dice():\n",
        "    die1: int = random.randint(1,6)\n",
        "    die2: int = random.randint(1,6)\n",
        "    total: int = die1 + die2\n",
        "    print(\"First die:\" + str(die1))\n",
        "    print(\"Second die:\" + str(die2))\n",
        "    print(f'Total of two dice :  {total}')\n",
        "if __name__ == '__main__':\n",
        "    dice()\n"
      ],
      "metadata": {
        "colab": {
          "base_uri": "https://localhost:8080/"
        },
        "id": "UnETzQs3wFrF",
        "outputId": "3105620a-e12b-4e7a-8293-8b739217723b"
      },
      "execution_count": 20,
      "outputs": [
        {
          "output_type": "stream",
          "name": "stdout",
          "text": [
            "06_rolldice\n",
            "First die:1\n",
            "Second die:5\n",
            "Total of two dice :  6\n"
          ]
        }
      ]
    },
    {
      "cell_type": "code",
      "source": [
        "print(\"06_seconds_in_year\")\n",
        "DAYS_IN_YEAR: int = 365\n",
        "HOURS_IN_DAY: int = 24\n",
        "MIN_IN_HOUR: int = 60\n",
        "SEC_IN_MIN: int = 60\n",
        "def seconds():\n",
        "    print(f'There are {DAYS_IN_YEAR * HOURS_IN_DAY * MIN_IN_HOUR * SEC_IN_MIN} seconds in a year!')\n",
        "\n",
        "if __name__ == '__main__':\n",
        "    seconds()"
      ],
      "metadata": {
        "colab": {
          "base_uri": "https://localhost:8080/"
        },
        "id": "So_IPRy_xmyK",
        "outputId": "5aac5454-ad70-4ab8-d6ea-33f4454ad211"
      },
      "execution_count": 22,
      "outputs": [
        {
          "output_type": "stream",
          "name": "stdout",
          "text": [
            "06_seconds_in_year\n",
            "There are 31536000 seconds in a year!\n"
          ]
        }
      ]
    },
    {
      "cell_type": "code",
      "source": [
        "print(\"07_Tiny Mad Lib\")\n",
        "\n",
        "def mad_lib():\n",
        "    adjective: str = input(\"Please type an adjective: \")\n",
        "    noun: str = input(\"Please type a noun: \")\n",
        "    verb: str = input(\"Please type a verb: \")\n",
        "    print(f\"Do you {verb} your {adjective} {noun}? That's hilarious!\")\n",
        "\n",
        "if __name__ == '__main__':\n",
        "    mad_lib()"
      ],
      "metadata": {
        "colab": {
          "base_uri": "https://localhost:8080/"
        },
        "id": "3-XsYsaUydSq",
        "outputId": "44857350-f7b9-4aee-f740-e51c8d8959fb"
      },
      "execution_count": 24,
      "outputs": [
        {
          "output_type": "stream",
          "name": "stdout",
          "text": [
            "07_Tiny Mad Lib\n",
            "Please type an adjective: funny\n",
            "Please type a noun: ali\n",
            "Please type a verb: laughs\n",
            "Do you laughs your funny ali? That's hilarious!\n"
          ]
        }
      ]
    }
  ]
}