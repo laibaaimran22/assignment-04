{
  "nbformat": 4,
  "nbformat_minor": 0,
  "metadata": {
    "colab": {
      "provenance": [],
      "authorship_tag": "ABX9TyNIIDDTwdGt7wmZ/9ilxaT+",
      "include_colab_link": true
    },
    "kernelspec": {
      "name": "python3",
      "display_name": "Python 3"
    },
    "language_info": {
      "name": "python"
    }
  },
  "cells": [
    {
      "cell_type": "markdown",
      "metadata": {
        "id": "view-in-github",
        "colab_type": "text"
      },
      "source": [
        "<a href=\"https://colab.research.google.com/github/laibaaimran22/assignment-04/blob/main/02_lists.ipynb\" target=\"_parent\"><img src=\"https://colab.research.google.com/assets/colab-badge.svg\" alt=\"Open In Colab\"/></a>"
      ]
    },
    {
      "cell_type": "code",
      "execution_count": 2,
      "metadata": {
        "colab": {
          "base_uri": "https://localhost:8080/"
        },
        "id": "YFRTyKS3Dk7I",
        "outputId": "61ebcb53-5198-4130-e165-d640aa05acf0"
      },
      "outputs": [
        {
          "output_type": "stream",
          "name": "stdout",
          "text": [
            "01_add_many_number\n",
            "15\n"
          ]
        }
      ],
      "source": [
        "print(\"01_add_many_number\")\n",
        "\n",
        "def add_numbers(numbers) -> int:\n",
        "    num: int = 0\n",
        "    for i in numbers:  # Fixed '1' to 'i'\n",
        "        num += i\n",
        "    return num\n",
        "\n",
        "def main():\n",
        "    numbers: list[int] = [1, 2, 3, 4, 5]\n",
        "    total = add_numbers(numbers)  # Renamed 'sum' to 'total' (to avoid overwriting built-in sum)\n",
        "    print(total)\n",
        "\n",
        "if __name__ == '__main__':\n",
        "    main()\n"
      ]
    },
    {
      "cell_type": "code",
      "source": [
        "print(\"02_double_list\")\n",
        "def main():\n",
        "    numbers: list[int] = [1, 2, 3, 4]\n",
        "\n",
        "    for i in range(len(numbers)):\n",
        "        index = numbers[i]\n",
        "        numbers[i] = index * 2\n",
        "    print(numbers)\n",
        "if __name__ == '__main__':\n",
        "    main()\n"
      ],
      "metadata": {
        "colab": {
          "base_uri": "https://localhost:8080/"
        },
        "id": "ph5_aToZE1Od",
        "outputId": "3a514750-8662-42df-b41d-461b5b6dab6e"
      },
      "execution_count": 3,
      "outputs": [
        {
          "output_type": "stream",
          "name": "stdout",
          "text": [
            "02_double_list\n",
            "[2, 4, 6, 8]\n"
          ]
        }
      ]
    },
    {
      "cell_type": "code",
      "source": [
        "print(\"04_flowing_with_data_structures\")\n",
        "def add_three_copies(lst, data):\n",
        "    for i in range(3):\n",
        "        lst.append(data)\n",
        "def main():\n",
        "    message = input(\"Enter a message to copy: \")\n",
        "    lst = []\n",
        "    print(\"List before:\", lst)\n",
        "    add_three_copies(lst, message)\n",
        "    print(\"List after:\", lst)\n",
        "if __name__ == \"__main__\":\n",
        "    main()\n"
      ],
      "metadata": {
        "colab": {
          "base_uri": "https://localhost:8080/"
        },
        "id": "-HPVeNq_FS3N",
        "outputId": "d2e85912-97df-4b56-cfd1-f01577983332"
      },
      "execution_count": 4,
      "outputs": [
        {
          "output_type": "stream",
          "name": "stdout",
          "text": [
            "04_flowing_with_data_structures\n",
            "Enter a message to copy: laiba\n",
            "List before: []\n",
            "List after: ['laiba', 'laiba', 'laiba']\n"
          ]
        }
      ]
    },
    {
      "cell_type": "code",
      "source": [
        "print(\"05_get_first_element\")\n",
        "\n",
        "def get_first_element(lst):\n",
        "    print(lst[0])\n",
        "def get_lst():\n",
        "    lst = []\n",
        "    elem: str = input(\"Enter an element of the list. \")\n",
        "    while elem != \"\":\n",
        "        lst.append(elem)\n",
        "        elem = input(\"Enter an element of the list. \")\n",
        "    return lst\n",
        "def main():\n",
        "    lst = get_lst()\n",
        "    get_first_element(lst)\n",
        "if __name__ == '__main__':\n",
        "    main()"
      ],
      "metadata": {
        "colab": {
          "base_uri": "https://localhost:8080/"
        },
        "id": "8SjpOAtwGeRH",
        "outputId": "3afb2a15-9b57-408b-d4cf-02dbd0d73da7"
      },
      "execution_count": 5,
      "outputs": [
        {
          "output_type": "stream",
          "name": "stdout",
          "text": [
            "05_get_first_element\n",
            "Enter an element of the list. 2\n",
            "Enter an element of the list. 2\n",
            "Enter an element of the list. 2\n",
            "Enter an element of the list. 2\n",
            "Enter an element of the list. 3\n",
            "Enter an element of the list. 4\n",
            "Enter an element of the list. 4\n",
            "Enter an element of the list. 4\n",
            "Enter an element of the list. 4\n",
            "Enter an element of the list. \n",
            "2\n"
          ]
        }
      ]
    },
    {
      "cell_type": "code",
      "source": [
        "print(\"06_get_last_element\")\n",
        "def get_last_element(lst):\n",
        "    print(lst[-1])\n",
        "def get_lst():\n",
        "    lst = []\n",
        "    elem: str = input(\"Enter an element of the list. \")\n",
        "    while elem != \"\":\n",
        "        lst.append(elem)\n",
        "        elem = input(\"Enter an element of the list. \")\n",
        "    return lst\n",
        "def main():\n",
        "    lst = get_lst()\n",
        "    get_last_element(lst)\n",
        "if __name__ == '__main__':\n",
        "    main()"
      ],
      "metadata": {
        "colab": {
          "base_uri": "https://localhost:8080/"
        },
        "id": "ZVT7p_KLHX4l",
        "outputId": "ff5e6664-e3de-4ef5-c61c-0e4b4f322394"
      },
      "execution_count": 8,
      "outputs": [
        {
          "output_type": "stream",
          "name": "stdout",
          "text": [
            "06_get_last_element\n",
            "Enter an element of the list. 2\n",
            "Enter an element of the list. 3\n",
            "Enter an element of the list. \n",
            "3\n"
          ]
        }
      ]
    },
    {
      "cell_type": "code",
      "source": [
        "print(\"07_get_list\")\n",
        "def main():\n",
        "    lst = []\n",
        "    val = input(\"Enter a value to be added: \")\n",
        "    while val:\n",
        "        lst.append(val)\n",
        "        val = input(\"Enter a value to be added: \")\n",
        "    print(\"Here's the list:\", lst)\n",
        "if __name__ == '__main__':\n",
        "    main()"
      ],
      "metadata": {
        "colab": {
          "base_uri": "https://localhost:8080/"
        },
        "id": "gzH-fX-fIStq",
        "outputId": "4e1ca744-300f-457c-8af7-bb0caec5196c"
      },
      "execution_count": 9,
      "outputs": [
        {
          "output_type": "stream",
          "name": "stdout",
          "text": [
            "07_get_list\n",
            "Enter a value to be added: 2\n",
            "Enter a value to be added: 4\n",
            "Enter a value to be added: \n",
            "Here's the list: ['2', '4']\n"
          ]
        }
      ]
    },
    {
      "cell_type": "code",
      "source": [
        "print(\"08_shorten\")\n",
        "MAX_LENGTH : int = 3\n",
        "def shorten(lst):\n",
        "    while len(lst) > MAX_LENGTH:\n",
        "        last_elem = lst.pop()\n",
        "        print(last_elem)\n",
        "def get_lst():\n",
        "    lst = []\n",
        "    elem = input(\"Enter an element of the list: \")\n",
        "    while elem != \"\":\n",
        "        lst.append(elem)\n",
        "        elem = input(\"Enter an element of the list: \")\n",
        "    return lst\n",
        "def main():\n",
        "    lst = get_lst()\n",
        "    shorten(lst)\n",
        "if __name__ == '__main__':\n",
        "    main()"
      ],
      "metadata": {
        "colab": {
          "base_uri": "https://localhost:8080/"
        },
        "id": "BFMh5HhLIBEw",
        "outputId": "f7781bdd-3fa1-41ec-a156-416e19690463"
      },
      "execution_count": 12,
      "outputs": [
        {
          "output_type": "stream",
          "name": "stdout",
          "text": [
            "08_shorten\n",
            "Enter an element of the list: T\n",
            "Enter an element of the list: R\n",
            "Enter an element of the list: E\n",
            "Enter an element of the list: E\n",
            "Enter an element of the list: S\n",
            "Enter an element of the list: \n",
            "S\n",
            "E\n"
          ]
        }
      ]
    }
  ]
}