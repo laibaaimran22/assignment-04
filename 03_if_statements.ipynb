{
  "nbformat": 4,
  "nbformat_minor": 0,
  "metadata": {
    "colab": {
      "provenance": [],
      "authorship_tag": "ABX9TyN9TrP8aW7s8sBEsvdSwRvn",
      "include_colab_link": true
    },
    "kernelspec": {
      "name": "python3",
      "display_name": "Python 3"
    },
    "language_info": {
      "name": "python"
    }
  },
  "cells": [
    {
      "cell_type": "markdown",
      "metadata": {
        "id": "view-in-github",
        "colab_type": "text"
      },
      "source": [
        "<a href=\"https://colab.research.google.com/github/laibaaimran22/assignment-04/blob/main/03_if_statements.ipynb\" target=\"_parent\"><img src=\"https://colab.research.google.com/assets/colab-badge.svg\" alt=\"Open In Colab\"/></a>"
      ]
    },
    {
      "cell_type": "code",
      "execution_count": 2,
      "metadata": {
        "colab": {
          "base_uri": "https://localhost:8080/"
        },
        "id": "QjXRRPuQQ0Cx",
        "outputId": "7e223206-11e1-4e48-80ba-6668d652d888"
      },
      "outputs": [
        {
          "output_type": "stream",
          "name": "stdout",
          "text": [
            "01_print_events\n",
            "0\n",
            "2\n",
            "4\n",
            "6\n",
            "8\n",
            "10\n",
            "12\n",
            "14\n",
            "16\n",
            "18\n",
            "20\n",
            "22\n",
            "24\n",
            "26\n",
            "28\n",
            "30\n",
            "32\n",
            "34\n",
            "36\n",
            "38\n"
          ]
        }
      ],
      "source": [
        "print(\"01_print_events\")\n",
        "def even():\n",
        "    for i in range(20):\n",
        "        print(i * 2)\n",
        "if __name__ == \"__main__\":\n",
        "    even()"
      ]
    },
    {
      "cell_type": "code",
      "source": [
        "print(\"02_international_voting_age\")\n",
        "PETURKSBOUIPO_AGE : int = 16\n",
        "STANLAU_AGE : int = 25\n",
        "MAYENGUA_AGE : int = 48\n",
        "\n",
        "def main():\n",
        "    age:int = int(input(\"How old are you? \"))\n",
        "    if age >= PETURKSBOUIPO_AGE:\n",
        "        print(f'Your age is {age}. You can vote in Peturksbouipo!')\n",
        "    else:\n",
        "        print(f'Your age is {age}. You cannot vote in Peturksbouipo!')\n",
        "    if age >= STANLAU_AGE:\n",
        "        print(f'Your age is {age}. You can vote in Stanlau!')\n",
        "    else:\n",
        "        print(f'Your age is {age}. You cannot vote in Stanlau!')\n",
        "\n",
        "    if age >= MAYENGUA_AGE:\n",
        "        print(f'Your age is {age}. You can vote in Mayengua!')\n",
        "    else:\n",
        "        print(f'Your age is {age}. You cannot vote in Mayengua!')\n",
        "\n",
        "if __name__ == '__main__':\n",
        "    main()"
      ],
      "metadata": {
        "colab": {
          "base_uri": "https://localhost:8080/"
        },
        "id": "0xwhUaXfRiLD",
        "outputId": "2dafe54a-c396-489a-f984-e5c94861b298"
      },
      "execution_count": 3,
      "outputs": [
        {
          "output_type": "stream",
          "name": "stdout",
          "text": [
            "02_international_voting_age\n",
            "How old are you? 12\n",
            "Your age is 12. You cannot vote in Peturksbouipo!\n",
            "Your age is 12. You cannot vote in Stanlau!\n",
            "Your age is 12. You cannot vote in Mayengua!\n"
          ]
        }
      ]
    },
    {
      "cell_type": "code",
      "source": [
        "print(\"03_leap_year\")\n",
        "def leap_year():\n",
        "    year:int = int(input('Please input a year: '))\n",
        "\n",
        "    if year % 4 == 0:\n",
        "        if year % 100 == 0:\n",
        "            if year % 400 == 0:\n",
        "                print(f'{year} is a leap year. ')\n",
        "            else:\n",
        "                print(f'{year} is not a leap year. ')\n",
        "        else:\n",
        "            print(f'{year} is not a leap year. ')\n",
        "    else:\n",
        "        print(f'{year} is not a leap year. ')\n",
        "\n",
        "if __name__ == '__main__':\n",
        "    leap_year()"
      ],
      "metadata": {
        "colab": {
          "base_uri": "https://localhost:8080/"
        },
        "id": "xbJ-LfeBTSn4",
        "outputId": "e21b01d4-a26c-4163-ae16-d43160722475"
      },
      "execution_count": 4,
      "outputs": [
        {
          "output_type": "stream",
          "name": "stdout",
          "text": [
            "03_leap_year\n",
            "Please input a year: 2020\n",
            "2020 is not a leap year. \n"
          ]
        }
      ]
    },
    {
      "cell_type": "code",
      "source": [
        "print(\"04_tall_enough_to_ride\")\n",
        "MINIMUM_HEIGHT : int = 50\n",
        "\n",
        "def main():\n",
        "    user:int = int(input(\"How tall are you? \"))\n",
        "    if user >= MINIMUM_HEIGHT:\n",
        "        print(\"You're tall enough to ride!\")\n",
        "    else:\n",
        "        print(\"You're not tall enough to ride, but maybe next year!\")\n",
        "\n",
        "if __name__ == '__main__':\n",
        "    main()"
      ],
      "metadata": {
        "colab": {
          "base_uri": "https://localhost:8080/"
        },
        "id": "vlAhZFJwUmNy",
        "outputId": "c8a45de9-109b-42e6-e12d-c53a1d402529"
      },
      "execution_count": 5,
      "outputs": [
        {
          "output_type": "stream",
          "name": "stdout",
          "text": [
            "04_tall_enough_to_ride\n",
            "How tall are you? 12\n",
            "You're not tall enough to ride, but maybe next year!\n"
          ]
        }
      ]
    },
    {
      "cell_type": "code",
      "source": [
        "print(\"05_random_numbers\")\n",
        "\n",
        "import random\n",
        "def main():\n",
        "    for i in range(10):\n",
        "        num:list[int] = random.randint(1,100)\n",
        "        print(num)\n",
        "if __name__ == '__main__':\n",
        "    main()"
      ],
      "metadata": {
        "colab": {
          "base_uri": "https://localhost:8080/"
        },
        "id": "PKsrVtLzVVhZ",
        "outputId": "4440564e-bfd8-43e9-8a4c-b72686002f5f"
      },
      "execution_count": 6,
      "outputs": [
        {
          "output_type": "stream",
          "name": "stdout",
          "text": [
            "05_random_numbers\n",
            "89\n",
            "47\n",
            "100\n",
            "55\n",
            "13\n",
            "61\n",
            "11\n",
            "71\n",
            "63\n",
            "87\n"
          ]
        }
      ]
    }
  ]
}