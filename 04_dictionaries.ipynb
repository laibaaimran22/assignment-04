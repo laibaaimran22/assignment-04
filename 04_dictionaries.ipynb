{
  "nbformat": 4,
  "nbformat_minor": 0,
  "metadata": {
    "colab": {
      "provenance": [],
      "authorship_tag": "ABX9TyM3oNQlAR11UXZUn9Il1vqj",
      "include_colab_link": true
    },
    "kernelspec": {
      "name": "python3",
      "display_name": "Python 3"
    },
    "language_info": {
      "name": "python"
    }
  },
  "cells": [
    {
      "cell_type": "markdown",
      "metadata": {
        "id": "view-in-github",
        "colab_type": "text"
      },
      "source": [
        "<a href=\"https://colab.research.google.com/github/laibaaimran22/assignment-04/blob/main/04_dictionaries.ipynb\" target=\"_parent\"><img src=\"https://colab.research.google.com/assets/colab-badge.svg\" alt=\"Open In Colab\"/></a>"
      ]
    },
    {
      "cell_type": "code",
      "execution_count": 10,
      "metadata": {
        "colab": {
          "base_uri": "https://localhost:8080/"
        },
        "id": "wx0nZimLBUG0",
        "outputId": "38673ad9-efa4-4aa4-f339-ab42155d4a45"
      },
      "outputs": [
        {
          "output_type": "stream",
          "name": "stdout",
          "text": [
            "00_count_nums\n",
            "Enter a number(or Exit to quit): 3\n",
            "Enter a number(or Exit to quit): 2\n",
            "Enter a number(or Exit to quit): 3\n",
            "Enter a number(or Exit to quit): 2\n",
            "Enter a number(or Exit to quit): 2\n",
            "Enter a number(or Exit to quit): 3\n",
            "Enter a number(or Exit to quit): 5\n",
            "Enter a number(or Exit to quit): 6\n",
            "Enter a number(or Exit to quit): 7\n",
            "Enter a number(or Exit to quit): exit\n",
            "\n",
            " Number Counts:\n",
            "3 appears 3 times\n",
            "2 appears 3 times\n",
            "5 appears 1 times\n",
            "6 appears 1 times\n",
            "7 appears 1 times\n"
          ]
        }
      ],
      "source": [
        "print(\"00_count_nums\")\n",
        "\n",
        "def count_numbers():\n",
        "    count_dict = {}\n",
        "\n",
        "    while True:\n",
        "        num = input(\"Enter a number(or Exit to quit): \")\n",
        "        if num.title() == 'Exit':\n",
        "            break\n",
        "        if num.isdigit():\n",
        "            num = int(num)\n",
        "            count_dict[num] = count_dict.get(num, 0) + 1\n",
        "        else:\n",
        "            print(\"Invalid Input. Please enter a number or 'Exit'.\")\n",
        "\n",
        "    return count_dict\n",
        "\n",
        "def display_counts(count_dict):\n",
        "    print(\"\\n Number Counts:\")\n",
        "    for key, value in count_dict.items():\n",
        "        print(f'{key} appears {value} times')\n",
        "\n",
        "if __name__ == '__main__':\n",
        "    counts = count_numbers()\n",
        "    display_counts(counts)\n"
      ]
    },
    {
      "cell_type": "code",
      "source": [
        "print(\"01_phonebook\")\n",
        "\n",
        "def add_contact(phonebook):\n",
        "    name = input(\"Enter contact name: \")\n",
        "    number = input(\"Enter contact number: \")\n",
        "    if name in phonebook:\n",
        "        print(f\"{name} already exists in the phonebook.\")\n",
        "    else:\n",
        "        phonebook[name] = number\n",
        "        print(f\"{name} added to the phonebook.\")\n",
        "\n",
        "def search_contact(phonebook):\n",
        "    name = input(\"Enter contact name to search: \")\n",
        "    if name in phonebook:\n",
        "        print(f\"{name} {phonebook[name]}\")\n",
        "    else:\n",
        "        print(f\"{name} not found in the phonebook.\")\n",
        "\n",
        "def display_contact(phonebook):\n",
        "    if phonebook:\n",
        "        print(\"\\nPhonebook Contacts List\")\n",
        "        for name, number in phonebook.items():\n",
        "            print(f\"{name} {number}\")\n",
        "    else:\n",
        "        print(\"Phonebook is empty.\")\n",
        "\n",
        "def delete_contact(phonebook):\n",
        "    name = input(\"Enter contact name to delete: \")\n",
        "    if name in phonebook:\n",
        "        del phonebook[name]\n",
        "        print(f\"{name} deleted from the Phonebook.\")\n",
        "    else:\n",
        "        print(f\"{name} not found in the Phonebook.\")\n",
        "\n",
        "if __name__ == '__main__':\n",
        "    phonebook = {}\n",
        "    while True:\n",
        "        print(\"\\nPhonebook menu\")\n",
        "        print(\"1. Add Contact\")\n",
        "        print(\"2. Search Contact\")\n",
        "        print(\"3. Delete Contact\")\n",
        "        print(\"4. Display Contact\")\n",
        "        print(\"5. Exit\")\n",
        "\n",
        "        choice = input(\"Enter your choice (1-5): \")\n",
        "        if choice == '1':\n",
        "            add_contact(phonebook)\n",
        "        elif choice == '2':\n",
        "            search_contact(phonebook)\n",
        "        elif choice == '3':\n",
        "            delete_contact(phonebook)\n",
        "        elif choice == '4':\n",
        "            display_contact(phonebook)\n",
        "        elif choice == '5':\n",
        "            print(\"Exiting Phonebook. BYE!\")\n",
        "            break\n",
        "        else:\n",
        "            print(\"Invalid choice. Please enter a number between 1 till 5.\")\n"
      ],
      "metadata": {
        "colab": {
          "base_uri": "https://localhost:8080/"
        },
        "id": "N15C5X_lJ1Kx",
        "outputId": "088de581-8f82-473b-cc06-1cf7e2d5bda1"
      },
      "execution_count": 14,
      "outputs": [
        {
          "output_type": "stream",
          "name": "stdout",
          "text": [
            "01_phonebook\n",
            "\n",
            "Phonebook menu\n",
            "1. Add Contact\n",
            "2. Search Contact\n",
            "3. Delete Contact\n",
            "4. Display Contact\n",
            "5. Exit\n",
            "Enter your choice (1-5): 1\n",
            "Enter contact name: ali\n",
            "Enter contact number: 033333333\n",
            "ali added to the phonebook.\n",
            "\n",
            "Phonebook menu\n",
            "1. Add Contact\n",
            "2. Search Contact\n",
            "3. Delete Contact\n",
            "4. Display Contact\n",
            "5. Exit\n",
            "Enter your choice (1-5): 5\n",
            "Exiting Phonebook. BYE!\n"
          ]
        }
      ]
    },
    {
      "cell_type": "code",
      "source": [
        "print(\"02_pop_up_shop\")\n",
        "\n",
        "def total_cost():\n",
        "    fruits_price = {\n",
        "        'apple': 2.5,\n",
        "        'durian': 50,\n",
        "        'banana': 90,\n",
        "        'kiwi': 1.5,\n",
        "        'grapes': 1.5,\n",
        "        'mango': 5\n",
        "    }\n",
        "\n",
        "    total_cost = 0\n",
        "    for fruit, price in fruits_price.items():\n",
        "        while True:\n",
        "            try:\n",
        "                quantity = int(input(f'How many {fruit} do you want to buy?: '))\n",
        "                if quantity < 0:\n",
        "                    print(\"Invalid Input. Please enter a non-negative number.\")\n",
        "                    continue\n",
        "                total_cost += price * quantity\n",
        "                break\n",
        "            except ValueError:\n",
        "                print(\"Invalid Input. Please enter a valid number.\")\n",
        "\n",
        "    print(f\"\\nYour total cost is ${total_cost:.2f}\")\n",
        "\n",
        "if __name__ == '__main__':\n",
        "    total_cost()\n"
      ],
      "metadata": {
        "colab": {
          "base_uri": "https://localhost:8080/"
        },
        "id": "_vZcfCpYRXiz",
        "outputId": "d21b61c2-2fd8-4c94-c11b-bf5bc0092a65"
      },
      "execution_count": 16,
      "outputs": [
        {
          "output_type": "stream",
          "name": "stdout",
          "text": [
            "02_pop_up_shop\n",
            "How many apple do you want to buy?: 3\n",
            "How many durian do you want to buy?: 4\n",
            "How many banana do you want to buy?: 4\n",
            "How many kiwi do you want to buy?: 2\n",
            "How many grapes do you want to buy?: 4\n",
            "How many mango do you want to buy?: 6\n",
            "\n",
            "Your total cost is $606.50\n"
          ]
        }
      ]
    },
    {
      "cell_type": "code",
      "source": [
        "import hashlib\n",
        "\n",
        "print(\"03_powerful_passwords\")\n",
        "\n",
        "def hash_password(password):\n",
        "    return hashlib.sha256(password.encode()).hexdigest()\n",
        "\n",
        "stored_logins = {\n",
        "    \"example@gmail.com\": hash_password(\"password123\"),\n",
        "    \"user@gmail.com\": hash_password(\"adminpass\"),\n",
        "}\n",
        "\n",
        "def login(email, password):\n",
        "    if email in stored_logins:\n",
        "        return stored_logins[email] == hash_password(password)\n",
        "    return False\n",
        "if __name__ == '__main__':\n",
        "    email = input(\"Enter your email: \")\n",
        "    password = input(\"Enter your password: \")\n",
        "    if login(email, password):\n",
        "        print(\"Login successful!\")\n",
        "    else:\n",
        "        print(\"Invalid email or password\")\n"
      ],
      "metadata": {
        "colab": {
          "base_uri": "https://localhost:8080/"
        },
        "id": "RKQ_yFiiUyjZ",
        "outputId": "d3913ca9-e575-4289-9937-119ee0f32200"
      },
      "execution_count": 18,
      "outputs": [
        {
          "output_type": "stream",
          "name": "stdout",
          "text": [
            "03_powerful_passwords\n",
            "Enter your email: ali@gmail.com\n",
            "Enter your password: 1234\n",
            "Invalid email or password\n"
          ]
        }
      ]
    },
    {
      "cell_type": "markdown",
      "source": [],
      "metadata": {
        "id": "slIV45TJRmcb"
      }
    }
  ]
}