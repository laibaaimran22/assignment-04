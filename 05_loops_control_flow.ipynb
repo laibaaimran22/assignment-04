{
  "nbformat": 4,
  "nbformat_minor": 0,
  "metadata": {
    "colab": {
      "provenance": [],
      "authorship_tag": "ABX9TyMdmamCYObMF+y73PnexYpU",
      "include_colab_link": true
    },
    "kernelspec": {
      "name": "python3",
      "display_name": "Python 3"
    },
    "language_info": {
      "name": "python"
    }
  },
  "cells": [
    {
      "cell_type": "markdown",
      "metadata": {
        "id": "view-in-github",
        "colab_type": "text"
      },
      "source": [
        "<a href=\"https://colab.research.google.com/github/laibaaimran22/assignment-04/blob/main/05_loops_control_flow.ipynb\" target=\"_parent\"><img src=\"https://colab.research.google.com/assets/colab-badge.svg\" alt=\"Open In Colab\"/></a>"
      ]
    },
    {
      "cell_type": "code",
      "execution_count": 2,
      "metadata": {
        "colab": {
          "base_uri": "https://localhost:8080/"
        },
        "id": "slyv70thF0D-",
        "outputId": "86150f1b-0b5c-4a49-82a8-2953e124fc5a"
      },
      "outputs": [
        {
          "output_type": "stream",
          "name": "stdout",
          "text": [
            "00_guess_my_number\n",
            "I am thinking of a number between 1 and 100...\n",
            "Enter a guess: 55\n",
            "Your guess is too high\n",
            "Enter a guess: 7\n",
            "Your guess is too high\n",
            "Enter a guess: 44\n",
            "Your guess is too high\n",
            "Enter a guess: 71\n",
            "Your guess is too high\n",
            "Enter a guess: 60\n",
            "Your guess is too high\n",
            "Enter a guess: 55\n",
            "Your guess is too high\n",
            "Enter a guess: 40\n",
            "Your guess is too high\n",
            "Enter a guess: 30\n",
            "Your guess is too high\n",
            "Enter a guess: 20\n",
            "Your guess is too high\n",
            "Enter a guess: 10\n",
            "Your guess is too high\n",
            "Enter a guess: 5\n",
            "Your guess is too high\n",
            "Enter a guess: 3\n",
            "Congrats! The number was:  3\n"
          ]
        }
      ],
      "source": [
        "import random\n",
        "print(\"00_guess_my_number\")\n",
        "\n",
        "def main():\n",
        "    secret_number = random.randint(1, 100)\n",
        "\n",
        "    print(\"I am thinking of a number between 1 and 100...\")\n",
        "    guess = int(input(\"Enter a guess: \"))\n",
        "    while guess != secret_number:\n",
        "        if guess < secret_number:\n",
        "            print(\"Your guess is too low\")\n",
        "        else:\n",
        "            print(\"Your guess is too high\")\n",
        "        guess = int(input(\"Enter a guess: \"))\n",
        "\n",
        "    print(f\"Congrats! The number was:  {secret_number}\")\n",
        "\n",
        "if __name__ == '__main__':\n",
        "    main()"
      ]
    },
    {
      "cell_type": "code",
      "source": [
        "print(\"01_fibonacci\")\n",
        "MAX_VALUE = 10000\n",
        "\n",
        "def main():\n",
        "    a,b = 0,1\n",
        "    print(a,b, end = \" \")\n",
        "    while True:\n",
        "      c= a+b\n",
        "      if c >= MAX_VALUE:\n",
        "        break\n",
        "      print(c, end= \" \")\n",
        "      a,b = b,c\n",
        "\n",
        "if __name__ == '__main__':\n",
        "    main()"
      ],
      "metadata": {
        "colab": {
          "base_uri": "https://localhost:8080/"
        },
        "id": "4fdgyMEdIdHj",
        "outputId": "c3576520-abce-4b43-b6cf-689e57760220"
      },
      "execution_count": 6,
      "outputs": [
        {
          "output_type": "stream",
          "name": "stdout",
          "text": [
            "01_fibonacci\n",
            "0 1 1 2 3 5 8 13 21 34 55 89 144 233 377 610 987 1597 2584 4181 6765 "
          ]
        }
      ]
    },
    {
      "cell_type": "code",
      "source": [
        "print(\"02_print_events\")\n",
        "def main():\n",
        "    for i in range(30):\n",
        "        print(i * 2)\n",
        "if __name__ == \"__main__\":\n",
        "    main()"
      ],
      "metadata": {
        "colab": {
          "base_uri": "https://localhost:8080/"
        },
        "id": "S6LaQtGPKr3Z",
        "outputId": "61f93248-c648-4e80-92b7-31a8e1418627"
      },
      "execution_count": 7,
      "outputs": [
        {
          "output_type": "stream",
          "name": "stdout",
          "text": [
            "02_print_events\n",
            "0\n",
            "2\n",
            "4\n",
            "6\n",
            "8\n",
            "10\n",
            "12\n",
            "14\n",
            "16\n",
            "18\n",
            "20\n",
            "22\n",
            "24\n",
            "26\n",
            "28\n",
            "30\n",
            "32\n",
            "34\n",
            "36\n",
            "38\n",
            "40\n",
            "42\n",
            "44\n",
            "46\n",
            "48\n",
            "50\n",
            "52\n",
            "54\n",
            "56\n",
            "58\n"
          ]
        }
      ]
    },
    {
      "cell_type": "code",
      "source": [
        "print(\"03_wholesome_machine\")\n",
        "CORR_AFFIRMATION = \"I am capable of doing anything I put my mind to.\"\n",
        "\n",
        "def main():\n",
        "    print(\"Welcome to the Wholesome Machine\")\n",
        "    while True:\n",
        "      user_input = input(\"Please type the following affirmation: \" + CORR_AFFIRMATION)\n",
        "      if user_input == CORR_AFFIRMATION:\n",
        "        print(\"That\\'s right!.\")\n",
        "        break\n",
        "    else:\n",
        "        print(\"That was not the affirmation. Please Try again! \")\n",
        "if __name__ == '__main__':\n",
        "    main()"
      ],
      "metadata": {
        "colab": {
          "base_uri": "https://localhost:8080/"
        },
        "id": "7QaArBTyLT1h",
        "outputId": "42f1bf9c-21c5-4385-c549-5c18672e26af"
      },
      "execution_count": 9,
      "outputs": [
        {
          "output_type": "stream",
          "name": "stdout",
          "text": [
            "03_wholesome_machine\n",
            "Welcome to the Wholesome Machine\n",
            "Please type the following affirmation: I am capable of doing anything I put my mind to.I am capable of doing anything I put my mind to.\n",
            "That's right!.\n"
          ]
        }
      ]
    },
    {
      "cell_type": "code",
      "source": [
        "print(\"04_liftoff\")\n",
        "def main():\n",
        "    for i in range(10,0,-1):\n",
        "        print(i,end = \" \")\n",
        "    print(\"Liftoff\")\n",
        "if __name__ == '__main__':\n",
        "    main()"
      ],
      "metadata": {
        "colab": {
          "base_uri": "https://localhost:8080/"
        },
        "id": "iZWE0fUSNwVI",
        "outputId": "a228063e-efb3-478b-acb8-a5118dc06248"
      },
      "execution_count": 13,
      "outputs": [
        {
          "output_type": "stream",
          "name": "stdout",
          "text": [
            "04_liftoff\n",
            "10 9 8 7 6 5 4 3 2 1 Liftoff\n"
          ]
        }
      ]
    },
    {
      "cell_type": "code",
      "source": [
        "print(\"05_double_it\")\n",
        "def main():\n",
        "  user_value = int(input(\"Enter a number: \"))\n",
        "  while user_value < 100:\n",
        "    user_value = user_value * 2\n",
        "    print(user_value)\n",
        "if __name__ == '__main__':\n",
        "    main()"
      ],
      "metadata": {
        "colab": {
          "base_uri": "https://localhost:8080/"
        },
        "id": "uFbx3Z7lOpBM",
        "outputId": "cb758c1f-f1ef-41d3-ee86-77cb23aae4cf"
      },
      "execution_count": 14,
      "outputs": [
        {
          "output_type": "stream",
          "name": "stdout",
          "text": [
            "05_double_it\n",
            "Enter a number: 3\n",
            "6\n",
            "12\n",
            "24\n",
            "48\n",
            "96\n",
            "192\n"
          ]
        }
      ]
    }
  ]
}