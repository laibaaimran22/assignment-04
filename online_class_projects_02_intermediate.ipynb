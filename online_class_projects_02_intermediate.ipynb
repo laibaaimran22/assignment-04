{
  "nbformat": 4,
  "nbformat_minor": 0,
  "metadata": {
    "colab": {
      "provenance": [],
      "authorship_tag": "ABX9TyPm93JW1Lwxi9022zA4/PDj",
      "include_colab_link": true
    },
    "kernelspec": {
      "name": "python3",
      "display_name": "Python 3"
    },
    "language_info": {
      "name": "python"
    }
  },
  "cells": [
    {
      "cell_type": "markdown",
      "metadata": {
        "id": "view-in-github",
        "colab_type": "text"
      },
      "source": [
        "<a href=\"https://colab.research.google.com/github/laibaaimran22/assignment-04/blob/main/online_class_projects_02_intermediate.ipynb\" target=\"_parent\"><img src=\"https://colab.research.google.com/assets/colab-badge.svg\" alt=\"Open In Colab\"/></a>"
      ]
    },
    {
      "cell_type": "code",
      "execution_count": 2,
      "metadata": {
        "colab": {
          "base_uri": "https://localhost:8080/"
        },
        "id": "JRDr61XEUQk6",
        "outputId": "fab541d0-4cc6-42b7-8a9d-0c30516b9d4a"
      },
      "outputs": [
        {
          "output_type": "stream",
          "name": "stdout",
          "text": [
            "High Low Game\n",
            "Welcome to the High Low Game\n",
            "****************************\n",
            "Round 1\n",
            "Your number is 17\n",
            "Do you think your number is higher or lower than the computer's number? higher\n",
            "You were right! The computer's number was 6\n",
            "Your score is now 1\n",
            "\n",
            "Round 2\n",
            "Your number is 96\n",
            "Do you think your number is higher or lower than the computer's number? lower\n",
            "You were wrong! The computer's number was 43\n",
            "\n",
            "Round 3\n",
            "Your number is 7\n",
            "Do you think your number is higher or lower than the computer's number? higher\n",
            "You were wrong! The computer's number was 68\n",
            "\n",
            "Round 4\n",
            "Your number is 5\n",
            "Do you think your number is higher or lower than the computer's number? lower\n",
            "You were right! The computer's number was 79\n",
            "Your score is now 2\n",
            "\n",
            "Round 5\n",
            "Your number is 16\n",
            "Do you think your number is higher or lower than the computer's number? higher\n",
            "You were wrong! The computer's number was 59\n",
            "\n",
            "Thanks for playing!\n"
          ]
        }
      ],
      "source": [
        "import random\n",
        "\n",
        "print(\"High Low Game\")\n",
        "\n",
        "rounds = 5\n",
        "def main():\n",
        "    print(\"Welcome to the High Low Game\")\n",
        "    print(\"****************************\")\n",
        "    your_score = 0\n",
        "\n",
        "    for i in range(rounds):\n",
        "        print(\"Round\", i + 1)\n",
        "        computer_number: int = random.randint(1, 100)\n",
        "        your_number: int = random.randint(1, 100)\n",
        "\n",
        "        print(\"Your number is\", your_number)\n",
        "        choice: str = input(\"Do you think your number is higher or lower than the computer's number? \").strip().lower()\n",
        "\n",
        "        higher_and_correct: bool = choice == \"higher\" and your_number > computer_number\n",
        "        lower_and_correct: bool = choice == \"lower\" and your_number < computer_number\n",
        "\n",
        "        if higher_and_correct or lower_and_correct:\n",
        "            print(\"You were right! The computer's number was\", computer_number)\n",
        "            your_score += 1\n",
        "            print(\"Your score is now\", your_score)\n",
        "        else:\n",
        "            print(\"You were wrong! The computer's number was\", computer_number)\n",
        "\n",
        "        print()\n",
        "\n",
        "    print(\"Thanks for playing!\")\n",
        "if __name__ == \"__main__\":\n",
        "    main()\n"
      ]
    },
    {
      "cell_type": "code",
      "source": [
        "print(\"Planetary Weight Calculator\")\n",
        "\n",
        "def main():\n",
        "    print(\"Welcome to the Planetary Weight Calculator\")\n",
        "    print(\"******************************************\")\n",
        "\n",
        "    earth_weight = float(input(\"Enter your weight on Earth: \"))\n",
        "\n",
        "    gravity_ratios = {\n",
        "        \"Mercury\": 0.38,\n",
        "        \"Venus\": 0.91,\n",
        "        \"Mars\": 0.38,\n",
        "        \"Jupiter\": 2.34,\n",
        "        \"Saturn\": 1.06,\n",
        "        \"Uranus\": 0.92,\n",
        "        \"Neptune\": 1.19\n",
        "    }\n",
        "\n",
        "    print(\"\\nSelect a planet\")\n",
        "    for planet in gravity_ratios:\n",
        "        print(f\"- {planet}\")\n",
        "\n",
        "    planet_choice = input(\"Enter the name of the planet: \").title()\n",
        "    if planet_choice in gravity_ratios:\n",
        "        new_weight = earth_weight * gravity_ratios[planet_choice]\n",
        "        print(f\"\\nYour weight on {planet_choice} is now {new_weight:.2f} kg\")\n",
        "    else:\n",
        "        print(\"\\nInvalid planet name.\")\n",
        "\n",
        "if __name__ == \"__main__\":\n",
        "    main()"
      ],
      "metadata": {
        "colab": {
          "base_uri": "https://localhost:8080/"
        },
        "id": "SxhzbXPVZJd0",
        "outputId": "42f586bf-524c-42c5-fbc6-64b2d89e2fef"
      },
      "execution_count": 3,
      "outputs": [
        {
          "output_type": "stream",
          "name": "stdout",
          "text": [
            "Planetary Weight Calculator\n",
            "Welcome to the Planetary Weight Calculator\n",
            "******************************************\n",
            "Enter your weight on Earth: 40\n",
            "\n",
            "Select a planet\n",
            "- Mercury\n",
            "- Venus\n",
            "- Mars\n",
            "- Jupiter\n",
            "- Saturn\n",
            "- Uranus\n",
            "- Neptune\n",
            "Enter the name of the planet: mars\n",
            "\n",
            "Your weight on Mars is now 15.20 kg\n"
          ]
        }
      ]
    },
    {
      "cell_type": "code",
      "source": [
        "print(\"Lists and Dicts\")\n",
        "\n",
        "my_list = [\"apple\", \"mango\", \"orange\", \"pear\", \"peach\"]\n",
        "\n",
        "def access_element(my_list, index):\n",
        "    \"\"\"Returns the element at the specified index, or an error message if out of range.\"\"\"\n",
        "    if 0 <= index < len(my_list):\n",
        "        return f'Element at index {index}: {my_list[index]}'\n",
        "    return \"Index out of range\"\n",
        "\n",
        "def modify_element(my_list, index, new_value):\n",
        "    \"\"\"Modifies the element at the specified index with the new value.\"\"\"\n",
        "    if 0 <= index < len(my_list):\n",
        "        old_value = my_list[index]\n",
        "        my_list[index] = new_value\n",
        "        return f'Element at index {index} modified from {old_value} to {new_value}'\n",
        "    return \"Index out of range\"\n",
        "\n",
        "def slice_list(my_list, start, end):\n",
        "    \"\"\"Returns a new list containing the elements from the start index to the end index (exclusive).\"\"\"\n",
        "    if 0 <= start < len(my_list) and 0 < end <= len(my_list):\n",
        "        return f'Sliced list: {my_list[start:end]}'\n",
        "    return \"Invalid slice indices!\"\n",
        "\n",
        "def list_game():\n",
        "    \"\"\"Interactive list manipulation game.\"\"\"\n",
        "    print(\"\\nWelcome to the list manipulation!\")\n",
        "\n",
        "    my_list = [\"apple\", \"mango\", \"orange\", \"pear\", \"peach\"]\n",
        "\n",
        "    while True:\n",
        "        print(\"\\nCurrent list:\", my_list)\n",
        "        print(\"Select an operation:\")\n",
        "        print(\"1. Access an element\")\n",
        "        print(\"2. Modify an element\")\n",
        "        print(\"3. Slice the list\")\n",
        "        print(\"4. Exit\")\n",
        "\n",
        "        choice = input(\"Enter your choice (1-4): \")\n",
        "\n",
        "        if choice == \"1\":\n",
        "            index = int(input(\"Enter index to access: \"))\n",
        "            print(access_element(my_list, index))\n",
        "\n",
        "        elif choice == \"2\":\n",
        "            index = int(input(\"Enter index to modify: \"))\n",
        "            new_value = input(\"Enter new value: \")\n",
        "            print(modify_element(my_list, index, new_value))\n",
        "\n",
        "        elif choice == \"3\":\n",
        "            start = int(input(\"Enter start index: \"))\n",
        "            end = int(input(\"Enter end index: \"))\n",
        "            print(slice_list(my_list, start, end))\n",
        "\n",
        "        elif choice == \"4\":\n",
        "            print(\"Exiting the program. Goodbye!\")\n",
        "            break\n",
        "\n",
        "        else:\n",
        "            print(\"Invalid choice! Please enter a number between 1 and 4.\")\n",
        "list_game()\n"
      ],
      "metadata": {
        "colab": {
          "base_uri": "https://localhost:8080/"
        },
        "id": "dHXo3kr8bAIp",
        "outputId": "718f5d22-60b7-4d76-bb70-9141bfbbc0e2"
      },
      "execution_count": 4,
      "outputs": [
        {
          "output_type": "stream",
          "name": "stdout",
          "text": [
            "Lists and Dicts\n",
            "\n",
            "Welcome to the list manipulation!\n",
            "\n",
            "Current list: ['apple', 'mango', 'orange', 'pear', 'peach']\n",
            "Select an operation:\n",
            "1. Access an element\n",
            "2. Modify an element\n",
            "3. Slice the list\n",
            "4. Exit\n",
            "Enter your choice (1-4): 1\n",
            "Enter index to access: 3\n",
            "Element at index 3: pear\n",
            "\n",
            "Current list: ['apple', 'mango', 'orange', 'pear', 'peach']\n",
            "Select an operation:\n",
            "1. Access an element\n",
            "2. Modify an element\n",
            "3. Slice the list\n",
            "4. Exit\n",
            "Enter your choice (1-4): 4\n",
            "Exiting the program. Goodbye!\n"
          ]
        }
      ]
    }
  ]
}